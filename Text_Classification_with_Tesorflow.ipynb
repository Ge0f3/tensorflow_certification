{
  "nbformat": 4,
  "nbformat_minor": 0,
  "metadata": {
    "colab": {
      "name": "Text Classification with Tesorflow.ipynb",
      "provenance": [],
      "include_colab_link": true
    },
    "kernelspec": {
      "name": "python3",
      "display_name": "Python 3"
    }
  },
  "cells": [
    {
      "cell_type": "markdown",
      "metadata": {
        "id": "view-in-github",
        "colab_type": "text"
      },
      "source": [
        "<a href=\"https://colab.research.google.com/github/Ge0f3/tensorflow_certification/blob/main/Text_Classification_with_Tesorflow.ipynb\" target=\"_parent\"><img src=\"https://colab.research.google.com/assets/colab-badge.svg\" alt=\"Open In Colab\"/></a>"
      ]
    },
    {
      "metadata": {
        "id": "USW2QtWo8ckz",
        "outputId": "67c32c5d-e83d-43f0-fce5-b90c15f60c98",
        "colab": {
          "base_uri": "https://localhost:8080/",
          "height": 34
        }
      },
      "cell_type": "code",
      "source": [
        "from __future__ import absolute_import, division, print_function\n",
        "\n",
        "# TensorFlow and tf.keras\n",
        "import tensorflow as tf\n",
        "from tensorflow import keras\n",
        "\n",
        "# Helper libraries\n",
        "import numpy as np\n",
        "import pandas as pd\n",
        "import matplotlib.pyplot as plt\n",
        "\n",
        "print(tf.__version__)\n"
      ],
      "execution_count": null,
      "outputs": [
        {
          "output_type": "stream",
          "text": [
            "1.13.1\n"
          ],
          "name": "stdout"
        }
      ]
    },
    {
      "metadata": {
        "id": "d1tMKSL48s5V",
        "colab": {
          "base_uri": "https://localhost:8080/",
          "height": 51
        },
        "outputId": "bed9c749-1ec2-445e-b175-82ce1ab6d1af"
      },
      "cell_type": "code",
      "source": [
        "imdb = keras.datasets.imdb\n",
        "\n",
        "(train_data, train_labels), (test_data, test_labels) = imdb.load_data(num_words=10000)"
      ],
      "execution_count": null,
      "outputs": [
        {
          "output_type": "stream",
          "text": [
            "Downloading data from https://storage.googleapis.com/tensorflow/tf-keras-datasets/imdb.npz\n",
            "17465344/17464789 [==============================] - 1s 0us/step\n"
          ],
          "name": "stdout"
        }
      ]
    },
    {
      "metadata": {
        "id": "fl7BUueJ-T5T",
        "outputId": "7c02959c-bc6a-44d6-ebfb-950d50edd5a4",
        "colab": {
          "base_uri": "https://localhost:8080/",
          "height": 51
        }
      },
      "cell_type": "code",
      "source": [
        "print(train_data[[2]].shape)\n",
        "print(train_labels[[0]].shape)"
      ],
      "execution_count": null,
      "outputs": [
        {
          "output_type": "stream",
          "text": [
            "(1,)\n",
            "(1,)\n"
          ],
          "name": "stdout"
        }
      ]
    },
    {
      "metadata": {
        "id": "VqF0y5f9If7b",
        "colab": {
          "base_uri": "https://localhost:8080/",
          "height": 51
        },
        "outputId": "0d3689c3-ccc2-4c7f-c2f2-ba94d376a8ea"
      },
      "cell_type": "code",
      "source": [
        "#Convering integer back to words\n",
        "\n",
        "# A dictionary mapping words to an integer index\n",
        "word_index = imdb.get_word_index()\n",
        "\n",
        "# The first indices are reserved\n",
        "word_index = {k:(v+3) for k,v in word_index.items()} \n",
        "word_index[\"<PAD>\"] = 0\n",
        "word_index[\"<START>\"] = 1\n",
        "word_index[\"<UNK>\"] = 2  # unknown\n",
        "word_index[\"<UNUSED>\"] = 3\n",
        "\n",
        "reverse_word_index = dict([(value, key) for (key, value) in word_index.items()])\n",
        "\n",
        "def decode_review(text):\n",
        "    return ' '.join([reverse_word_index.get(i, '?') for i in text])"
      ],
      "execution_count": null,
      "outputs": [
        {
          "output_type": "stream",
          "text": [
            "Downloading data from https://storage.googleapis.com/tensorflow/tf-keras-datasets/imdb_word_index.json\n",
            "1646592/1641221 [==============================] - 0s 0us/step\n"
          ],
          "name": "stdout"
        }
      ]
    },
    {
      "metadata": {
        "id": "BV0WohZJI1IK",
        "outputId": "0731e943-8723-4bde-d6d9-6edb4fc56633",
        "colab": {
          "base_uri": "https://localhost:8080/",
          "height": 91
        }
      },
      "cell_type": "code",
      "source": [
        "print(decode_review(test_data[1]))\n",
        "print(test_labels[1])"
      ],
      "execution_count": null,
      "outputs": [
        {
          "output_type": "stream",
          "text": [
            "<START> this film requires a lot of patience because it focuses on mood and character development the plot is very simple and many of the scenes take place on the same set in frances <UNK> the sandy dennis character apartment but the film builds to a disturbing climax br br the characters create an atmosphere <UNK> with sexual tension and psychological <UNK> it's very interesting that robert altman directed this considering the style and structure of his other films still the trademark altman audio style is evident here and there i think what really makes this film work is the brilliant performance by sandy dennis it's definitely one of her darker characters but she plays it so perfectly and convincingly that it's scary michael burns does a good job as the mute young man regular altman player michael murphy has a small part the <UNK> moody set fits the content of the story very well in short this movie is a powerful study of loneliness sexual <UNK> and desperation be patient <UNK> up the atmosphere and pay attention to the wonderfully written script br br i praise robert altman this is one of his many films that deals with unconventional fascinating subject matter this film is disturbing but it's sincere and it's sure to <UNK> a strong emotional response from the viewer if you want to see an unusual film some might even say bizarre this is worth the time br br unfortunately it's very difficult to find in video stores you may have to buy it off the internet\n",
            "1\n"
          ],
          "name": "stdout"
        }
      ]
    },
    {
      "metadata": {
        "id": "IVG7A0vxJYRQ"
      },
      "cell_type": "code",
      "source": [
        "train_data = keras.preprocessing.sequence.pad_sequences(train_data,\n",
        "                                                        value=word_index[\"<PAD>\"],\n",
        "                                                        padding='post',\n",
        "                                                        maxlen=256)\n",
        "\n",
        "test_data = keras.preprocessing.sequence.pad_sequences(test_data,\n",
        "                                                       value=word_index[\"<PAD>\"],\n",
        "                                                       padding='post',\n",
        "                                                       maxlen=256)"
      ],
      "execution_count": null,
      "outputs": []
    },
    {
      "metadata": {
        "id": "Rt01X7V2JdfR",
        "outputId": "98b647b0-5e1b-4dd2-9dd0-e51278e718a1",
        "colab": {
          "base_uri": "https://localhost:8080/",
          "height": 363
        }
      },
      "cell_type": "code",
      "source": [
        "# input shape is the vocabulary count used for the movie reviews (10,000 words)\n",
        "vocab_size = 10000\n",
        "\n",
        "model = keras.Sequential()\n",
        "model.add(keras.layers.Embedding(vocab_size, 16))\n",
        "model.add(keras.layers.GlobalAveragePooling1D())\n",
        "model.add(keras.layers.Dense(16, activation=tf.nn.relu))\n",
        "model.add(keras.layers.Dense(1, activation=tf.nn.sigmoid))\n",
        "\n",
        "model.summary()"
      ],
      "execution_count": null,
      "outputs": [
        {
          "output_type": "stream",
          "text": [
            "WARNING:tensorflow:From /usr/local/lib/python3.6/dist-packages/tensorflow/python/ops/resource_variable_ops.py:435: colocate_with (from tensorflow.python.framework.ops) is deprecated and will be removed in a future version.\n",
            "Instructions for updating:\n",
            "Colocations handled automatically by placer.\n",
            "_________________________________________________________________\n",
            "Layer (type)                 Output Shape              Param #   \n",
            "=================================================================\n",
            "embedding (Embedding)        (None, None, 16)          160000    \n",
            "_________________________________________________________________\n",
            "global_average_pooling1d (Gl (None, 16)                0         \n",
            "_________________________________________________________________\n",
            "dense (Dense)                (None, 16)                272       \n",
            "_________________________________________________________________\n",
            "dense_1 (Dense)              (None, 1)                 17        \n",
            "=================================================================\n",
            "Total params: 160,289\n",
            "Trainable params: 160,289\n",
            "Non-trainable params: 0\n",
            "_________________________________________________________________\n"
          ],
          "name": "stdout"
        }
      ]
    },
    {
      "metadata": {
        "id": "-CP6yNMtJf33"
      },
      "cell_type": "code",
      "source": [
        "model.compile(optimizer='adam',\n",
        "              loss='binary_crossentropy',\n",
        "              metrics=['acc'])"
      ],
      "execution_count": null,
      "outputs": []
    },
    {
      "metadata": {
        "id": "6vhKTfuWJh32",
        "colab": {
          "base_uri": "https://localhost:8080/",
          "height": 34
        },
        "outputId": "22f58672-9297-4646-b129-bc7f196fa1d9"
      },
      "cell_type": "code",
      "source": [
        "x_val = train_data[:10000]\n",
        "partial_x_train = train_data[10000:]\n",
        "\n",
        "y_val = train_labels[:10000]\n",
        "partial_y_train = train_labels[10000:]\n",
        "print(partial_y_train[3])"
      ],
      "execution_count": null,
      "outputs": [
        {
          "output_type": "stream",
          "text": [
            "0\n"
          ],
          "name": "stdout"
        }
      ]
    },
    {
      "metadata": {
        "id": "uanKcCPSJjVf",
        "outputId": "5fb96ec0-fd9e-4d9e-dcfc-48976cd22902",
        "colab": {
          "base_uri": "https://localhost:8080/",
          "height": 1465
        }
      },
      "cell_type": "code",
      "source": [
        "history = model.fit(partial_x_train,\n",
        "                    partial_y_train,\n",
        "                    epochs=40,\n",
        "                    batch_size=512,\n",
        "                    validation_data=(x_val, y_val),\n",
        "                    verbose=1)\n"
      ],
      "execution_count": null,
      "outputs": [
        {
          "output_type": "stream",
          "text": [
            "Train on 15000 samples, validate on 10000 samples\n",
            "WARNING:tensorflow:From /usr/local/lib/python3.6/dist-packages/tensorflow/python/ops/math_ops.py:3066: to_int32 (from tensorflow.python.ops.math_ops) is deprecated and will be removed in a future version.\n",
            "Instructions for updating:\n",
            "Use tf.cast instead.\n",
            "Epoch 1/40\n",
            "15000/15000 [==============================] - 1s 88us/sample - loss: 0.6921 - acc: 0.5174 - val_loss: 0.6903 - val_acc: 0.6321\n",
            "Epoch 2/40\n",
            "15000/15000 [==============================] - 1s 56us/sample - loss: 0.6870 - acc: 0.7333 - val_loss: 0.6833 - val_acc: 0.7181\n",
            "Epoch 3/40\n",
            "15000/15000 [==============================] - 1s 56us/sample - loss: 0.6751 - acc: 0.7380 - val_loss: 0.6670 - val_acc: 0.7557\n",
            "Epoch 4/40\n",
            "15000/15000 [==============================] - 1s 54us/sample - loss: 0.6521 - acc: 0.7617 - val_loss: 0.6409 - val_acc: 0.7619\n",
            "Epoch 5/40\n",
            "15000/15000 [==============================] - 1s 52us/sample - loss: 0.6183 - acc: 0.7915 - val_loss: 0.6055 - val_acc: 0.7857\n",
            "Epoch 6/40\n",
            "15000/15000 [==============================] - 1s 54us/sample - loss: 0.5743 - acc: 0.8130 - val_loss: 0.5623 - val_acc: 0.8033\n",
            "Epoch 7/40\n",
            "15000/15000 [==============================] - 1s 54us/sample - loss: 0.5247 - acc: 0.8273 - val_loss: 0.5163 - val_acc: 0.8188\n",
            "Epoch 8/40\n",
            "15000/15000 [==============================] - 1s 53us/sample - loss: 0.4759 - acc: 0.8466 - val_loss: 0.4744 - val_acc: 0.8339\n",
            "Epoch 9/40\n",
            "15000/15000 [==============================] - 1s 54us/sample - loss: 0.4311 - acc: 0.8605 - val_loss: 0.4371 - val_acc: 0.8443\n",
            "Epoch 10/40\n",
            "15000/15000 [==============================] - 1s 54us/sample - loss: 0.3920 - acc: 0.8743 - val_loss: 0.4069 - val_acc: 0.8509\n",
            "Epoch 11/40\n",
            "15000/15000 [==============================] - 1s 54us/sample - loss: 0.3593 - acc: 0.8819 - val_loss: 0.3821 - val_acc: 0.8601\n",
            "Epoch 12/40\n",
            "15000/15000 [==============================] - 1s 52us/sample - loss: 0.3320 - acc: 0.8899 - val_loss: 0.3633 - val_acc: 0.8630\n",
            "Epoch 13/40\n",
            "15000/15000 [==============================] - 1s 53us/sample - loss: 0.3096 - acc: 0.8958 - val_loss: 0.3467 - val_acc: 0.8688\n",
            "Epoch 14/40\n",
            "15000/15000 [==============================] - 1s 53us/sample - loss: 0.2896 - acc: 0.9011 - val_loss: 0.3347 - val_acc: 0.8737\n",
            "Epoch 15/40\n",
            "15000/15000 [==============================] - 1s 52us/sample - loss: 0.2729 - acc: 0.9068 - val_loss: 0.3247 - val_acc: 0.8756\n",
            "Epoch 16/40\n",
            "15000/15000 [==============================] - 1s 52us/sample - loss: 0.2578 - acc: 0.9110 - val_loss: 0.3165 - val_acc: 0.8757\n",
            "Epoch 17/40\n",
            "15000/15000 [==============================] - 1s 54us/sample - loss: 0.2440 - acc: 0.9158 - val_loss: 0.3096 - val_acc: 0.8786\n",
            "Epoch 18/40\n",
            "15000/15000 [==============================] - 1s 54us/sample - loss: 0.2317 - acc: 0.9206 - val_loss: 0.3037 - val_acc: 0.8807\n",
            "Epoch 19/40\n",
            "15000/15000 [==============================] - 1s 55us/sample - loss: 0.2206 - acc: 0.9232 - val_loss: 0.2989 - val_acc: 0.8818\n",
            "Epoch 20/40\n",
            "15000/15000 [==============================] - 1s 55us/sample - loss: 0.2106 - acc: 0.9263 - val_loss: 0.2955 - val_acc: 0.8822\n",
            "Epoch 21/40\n",
            "15000/15000 [==============================] - 1s 54us/sample - loss: 0.2004 - acc: 0.9321 - val_loss: 0.2926 - val_acc: 0.8828\n",
            "Epoch 22/40\n",
            "15000/15000 [==============================] - 1s 54us/sample - loss: 0.1919 - acc: 0.9352 - val_loss: 0.2901 - val_acc: 0.8842\n",
            "Epoch 23/40\n",
            "15000/15000 [==============================] - 1s 54us/sample - loss: 0.1833 - acc: 0.9395 - val_loss: 0.2892 - val_acc: 0.8834\n",
            "Epoch 24/40\n",
            "15000/15000 [==============================] - 1s 53us/sample - loss: 0.1758 - acc: 0.9429 - val_loss: 0.2876 - val_acc: 0.8850\n",
            "Epoch 25/40\n",
            "15000/15000 [==============================] - 1s 54us/sample - loss: 0.1682 - acc: 0.9464 - val_loss: 0.2862 - val_acc: 0.8851\n",
            "Epoch 26/40\n",
            "15000/15000 [==============================] - 1s 53us/sample - loss: 0.1614 - acc: 0.9487 - val_loss: 0.2869 - val_acc: 0.8832\n",
            "Epoch 27/40\n",
            "15000/15000 [==============================] - 1s 55us/sample - loss: 0.1549 - acc: 0.9519 - val_loss: 0.2863 - val_acc: 0.8841\n",
            "Epoch 28/40\n",
            "15000/15000 [==============================] - 1s 55us/sample - loss: 0.1488 - acc: 0.9543 - val_loss: 0.2869 - val_acc: 0.8856\n",
            "Epoch 29/40\n",
            "15000/15000 [==============================] - 1s 57us/sample - loss: 0.1434 - acc: 0.9574 - val_loss: 0.2885 - val_acc: 0.8841\n",
            "Epoch 30/40\n",
            "15000/15000 [==============================] - 1s 57us/sample - loss: 0.1377 - acc: 0.9587 - val_loss: 0.2879 - val_acc: 0.8858\n",
            "Epoch 31/40\n",
            "15000/15000 [==============================] - 1s 58us/sample - loss: 0.1319 - acc: 0.9607 - val_loss: 0.2890 - val_acc: 0.8861\n",
            "Epoch 32/40\n",
            "15000/15000 [==============================] - 1s 57us/sample - loss: 0.1268 - acc: 0.9639 - val_loss: 0.2905 - val_acc: 0.8853\n",
            "Epoch 33/40\n",
            "15000/15000 [==============================] - 1s 58us/sample - loss: 0.1218 - acc: 0.9654 - val_loss: 0.2928 - val_acc: 0.8856\n",
            "Epoch 34/40\n",
            "15000/15000 [==============================] - 1s 59us/sample - loss: 0.1173 - acc: 0.9669 - val_loss: 0.2950 - val_acc: 0.8844\n",
            "Epoch 35/40\n",
            "15000/15000 [==============================] - 1s 58us/sample - loss: 0.1132 - acc: 0.9677 - val_loss: 0.2974 - val_acc: 0.8849\n",
            "Epoch 36/40\n",
            "15000/15000 [==============================] - 1s 58us/sample - loss: 0.1087 - acc: 0.9703 - val_loss: 0.2992 - val_acc: 0.8836\n",
            "Epoch 37/40\n",
            "15000/15000 [==============================] - 1s 55us/sample - loss: 0.1043 - acc: 0.9711 - val_loss: 0.3019 - val_acc: 0.8833\n",
            "Epoch 38/40\n",
            "15000/15000 [==============================] - 1s 56us/sample - loss: 0.1004 - acc: 0.9727 - val_loss: 0.3055 - val_acc: 0.8822\n",
            "Epoch 39/40\n",
            "15000/15000 [==============================] - 1s 57us/sample - loss: 0.0972 - acc: 0.9739 - val_loss: 0.3091 - val_acc: 0.8816\n",
            "Epoch 40/40\n",
            "15000/15000 [==============================] - 1s 56us/sample - loss: 0.0931 - acc: 0.9758 - val_loss: 0.3120 - val_acc: 0.8828\n"
          ],
          "name": "stdout"
        }
      ]
    },
    {
      "metadata": {
        "id": "ny6OVlnqKF7a",
        "outputId": "813878c6-e7de-4d2c-d37f-24326befad6f",
        "colab": {
          "base_uri": "https://localhost:8080/",
          "height": 283
        }
      },
      "cell_type": "code",
      "source": [
        "import matplotlib.pyplot as plt\n",
        "\n",
        "plt.xlabel('Epoch Number')\n",
        "plt.ylabel('Loss Number')\n",
        "plt.plot(history.history['loss'])\n",
        "plt.show()"
      ],
      "execution_count": null,
      "outputs": [
        {
          "output_type": "display_data",
          "data": {
            "image/png": "[encoded data removed]",
            "text/plain": [
              "<Figure size 432x288 with 1 Axes>"
            ]
          },
          "metadata": {
            "tags": []
          }
        }
      ]
    },
    {
      "metadata": {
        "id": "iMtrUhyqxm-V",
        "colab": {
          "base_uri": "https://localhost:8080/",
          "height": 437
        },
        "outputId": "153448ec-6d8d-4c3b-8312-38c654436540"
      },
      "cell_type": "code",
      "source": [
        "\n",
        "user_input = 'This is the good movie'\n",
        "word_index = imdb.get_word_index()\n",
        "x_test = [[word_index[w] for w in user_input if w in word_index]]\n",
        "x_test = keras.preprocessing.sequence.pad_sequences(x_test, maxlen=256) # Should be same which you used for training data\n",
        "\n",
        "vector = np.array([x_test.flatten()])\n",
        "\n",
        "# print(model.predict(vector))\n",
        "prediction = model.predict(vector)\n",
        "if(prediction<0.70):\n",
        "  #print(\"The probability of the review being negtive is {}\\nThe probability of the review being positive is {}\".format(model.predict(vector),1-model.predict(vector)))\n",
        "  data = [['Positive', 1-prediction[0][0]] , ['Negative', prediction[0][0]] ]\n",
        "  df = pd.DataFrame(data, columns = ['Sentiment', 'Probability'])\n",
        "  #display(df)\n",
        "  sns.barplot(x=\"Sentiment\", y=\"Probability\", data=df)\n",
        "else:\n",
        "  #print(\"The probability of the review being positive is {}\\nThe probability of the review being negative is {}\".format(model.predict(vector),1-model.predict(vector)))\n",
        "  data = [['Positive', prediction[0][0]] , ['Negative', 1-prediction[0][0]] ] \n",
        "  df = pd.DataFrame(data, columns = ['Sentiment', 'Probability'])\n",
        "  #display(df)\n",
        "  sns.barplot(x=\"Sentiment\", y=\"Probability\", data=df)"
      ],
      "execution_count": null,
      "outputs": [
        {
          "output_type": "stream",
          "text": [
            "/usr/local/lib/python3.6/dist-packages/seaborn/categorical.py:1428: FutureWarning: remove_na is deprecated and is a private function. Do not use.\n",
            "  stat_data = remove_na(group_data)\n"
          ],
          "name": "stderr"
        },
        {
          "output_type": "display_data",
          "data": {
            "image/png": "[encoded data removed]",
            "text/plain": [
              "<Figure size 576x396 with 1 Axes>"
            ]
          },
          "metadata": {
            "tags": []
          }
        }
      ]
    },
    {
      "metadata": {
        "id": "FuwoJz6zzAxg",
        "colab": {
          "base_uri": "https://localhost:8080/",
          "height": 425
        },
        "outputId": "8b64fe3a-0e3e-4e0f-9409-d59f96407e39"
      },
      "cell_type": "code",
      "source": [
        "x_test"
      ],
      "execution_count": null,
      "outputs": [
        {
          "output_type": "execute_result",
          "data": {
            "text/plain": [
              "array([[   0,    0,    0,    0,    0,    0,    0,    0,    0,    0,    0,\n",
              "           0,    0,    0,    0,    0,    0,    0,    0,    0,    0,    0,\n",
              "           0,    0,    0,    0,    0,    0,    0,    0,    0,    0,    0,\n",
              "           0,    0,    0,    0,    0,    0,    0,    0,    0,    0,    0,\n",
              "           0,    0,    0,    0,    0,    0,    0,    0,    0,    0,    0,\n",
              "           0,    0,    0,    0,    0,    0,    0,    0,    0,    0,    0,\n",
              "           0,    0,    0,    0,    0,    0,    0,    0,    0,    0,    0,\n",
              "           0,    0,    0,    0,    0,    0,    0,    0,    0,    0,    0,\n",
              "           0,    0,    0,    0,    0,    0,    0,    0,    0,    0,    0,\n",
              "           0,    0,    0,    0,    0,    0,    0,    0,    0,    0,    0,\n",
              "           0,    0,    0,    0,    0,    0,    0,    0,    0,    0,    0,\n",
              "           0,    0,    0,    0,    0,    0,    0,    0,    0,    0,    0,\n",
              "           0,    0,    0,    0,    0,    0,    0,    0,    0,    0,    0,\n",
              "           0,    0,    0,    0,    0,    0,    0,    0,    0,    0,    0,\n",
              "           0,    0,    0,    0,    0,    0,    0,    0,    0,    0,    0,\n",
              "           0,    0,    0,    0,    0,    0,    0,    0,    0,    0,    0,\n",
              "           0,    0,    0,    0,    0,    0,    0,    0,    0,    0,    0,\n",
              "           0,    0,    0,    0,    0,    0,    0,    0,    0,    0,    0,\n",
              "           0,    0,    0,    0,    0,    0,    0,    0,    0,    0,    0,\n",
              "           0,    0,    0,    0,    0,    0,    0,    0,    0,    0,    0,\n",
              "           0,    0,    0,    0,    0,    0,    0,    0,    0,    0,    0,\n",
              "           0,    0,    0,    0,    0,    0,    0,    0, 2020,   10,  587,\n",
              "          10,  587,  827, 2020,  960, 1328, 1601, 1601, 1092, 1980, 1601,\n",
              "        1961,   10,  960]], dtype=int32)"
            ]
          },
          "metadata": {
            "tags": []
          },
          "execution_count": 57
        }
      ]
    },
    {
      "metadata": {
        "id": "LTrqBV8-zWlP"
      },
      "cell_type": "code",
      "source": [
        ""
      ],
      "execution_count": null,
      "outputs": []
    },
    {
      "metadata": {
        "id": "l7DJVcaokT-R",
        "colab": {
          "base_uri": "https://localhost:8080/",
          "height": 204
        },
        "outputId": "a698d74f-7256-4dc5-cd6d-e9bc67ac9ba3"
      },
      "cell_type": "code",
      "source": [
        "\n",
        "\n",
        "import seaborn as sns\n",
        "tips = sns.load_dataset(\"tips\")\n",
        "tips.head()"
      ],
      "execution_count": null,
      "outputs": [
        {
          "output_type": "execute_result",
          "data": {
            "text/html": [
              "<div>\n",
              "<style scoped>\n",
              "    .dataframe tbody tr th:only-of-type {\n",
              "        vertical-align: middle;\n",
              "    }\n",
              "\n",
              "    .dataframe tbody tr th {\n",
              "        vertical-align: top;\n",
              "    }\n",
              "\n",
              "    .dataframe thead th {\n",
              "        text-align: right;\n",
              "    }\n",
              "</style>\n",
              "<table border=\"1\" class=\"dataframe\">\n",
              "  <thead>\n",
              "    <tr style=\"text-align: right;\">\n",
              "      <th></th>\n",
              "      <th>total_bill</th>\n",
              "      <th>tip</th>\n",
              "      <th>sex</th>\n",
              "      <th>smoker</th>\n",
              "      <th>day</th>\n",
              "      <th>time</th>\n",
              "      <th>size</th>\n",
              "    </tr>\n",
              "  </thead>\n",
              "  <tbody>\n",
              "    <tr>\n",
              "      <th>0</th>\n",
              "      <td>16.99</td>\n",
              "      <td>1.01</td>\n",
              "      <td>Female</td>\n",
              "      <td>No</td>\n",
              "      <td>Sun</td>\n",
              "      <td>Dinner</td>\n",
              "      <td>2</td>\n",
              "    </tr>\n",
              "    <tr>\n",
              "      <th>1</th>\n",
              "      <td>10.34</td>\n",
              "      <td>1.66</td>\n",
              "      <td>Male</td>\n",
              "      <td>No</td>\n",
              "      <td>Sun</td>\n",
              "      <td>Dinner</td>\n",
              "      <td>3</td>\n",
              "    </tr>\n",
              "    <tr>\n",
              "      <th>2</th>\n",
              "      <td>21.01</td>\n",
              "      <td>3.50</td>\n",
              "      <td>Male</td>\n",
              "      <td>No</td>\n",
              "      <td>Sun</td>\n",
              "      <td>Dinner</td>\n",
              "      <td>3</td>\n",
              "    </tr>\n",
              "    <tr>\n",
              "      <th>3</th>\n",
              "      <td>23.68</td>\n",
              "      <td>3.31</td>\n",
              "      <td>Male</td>\n",
              "      <td>No</td>\n",
              "      <td>Sun</td>\n",
              "      <td>Dinner</td>\n",
              "      <td>2</td>\n",
              "    </tr>\n",
              "    <tr>\n",
              "      <th>4</th>\n",
              "      <td>24.59</td>\n",
              "      <td>3.61</td>\n",
              "      <td>Female</td>\n",
              "      <td>No</td>\n",
              "      <td>Sun</td>\n",
              "      <td>Dinner</td>\n",
              "      <td>4</td>\n",
              "    </tr>\n",
              "  </tbody>\n",
              "</table>\n",
              "</div>"
            ],
            "text/plain": [
              "   total_bill   tip     sex smoker  day    time  size\n",
              "0       16.99  1.01  Female     No  Sun  Dinner     2\n",
              "1       10.34  1.66    Male     No  Sun  Dinner     3\n",
              "2       21.01  3.50    Male     No  Sun  Dinner     3\n",
              "3       23.68  3.31    Male     No  Sun  Dinner     2\n",
              "4       24.59  3.61  Female     No  Sun  Dinner     4"
            ]
          },
          "metadata": {
            "tags": []
          },
          "execution_count": 15
        }
      ]
    },
    {
      "metadata": {
        "id": "QBIfS3dBzDOV"
      },
      "cell_type": "code",
      "source": [
        "# print(test_data[0])\n",
        "# print(x_test)"
      ],
      "execution_count": null,
      "outputs": []
    }
  ]
}