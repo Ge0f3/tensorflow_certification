{
  "nbformat": 4,
  "nbformat_minor": 0,
  "metadata": {
    "colab": {
      "name": "TF Celcuis to Fahrenheit.ipynb",
      "provenance": [],
      "collapsed_sections": [],
      "include_colab_link": true
    },
    "kernelspec": {
      "name": "python3",
      "display_name": "Python 3"
    }
  },
  "cells": [
    {
      "cell_type": "markdown",
      "metadata": {
        "id": "view-in-github",
        "colab_type": "text"
      },
      "source": [
        "<a href=\"https://colab.research.google.com/github/Ge0f3/tensorflow_certification/blob/main/TF_Celcuis_to_Fahrenheit.ipynb\" target=\"_parent\"><img src=\"https://colab.research.google.com/assets/colab-badge.svg\" alt=\"Open In Colab\"/></a>"
      ]
    },
    {
      "cell_type": "code",
      "metadata": {
        "id": "6DJ3fsL1JKpl",
        "colab": {
          "base_uri": "https://localhost:8080/"
        },
        "outputId": "14133bb8-5e63-474f-98b7-5f221a66fb35"
      },
      "source": [
        "import tensorflow as tf\n",
        "import numpy as np \n",
        "print(tf.__version__)"
      ],
      "execution_count": null,
      "outputs": [
        {
          "output_type": "stream",
          "text": [
            "2.4.1\n"
          ],
          "name": "stdout"
        }
      ]
    },
    {
      "cell_type": "markdown",
      "metadata": {
        "id": "3Gn_-KXGJn7I"
      },
      "source": [
        "#Setting up Test data\n",
        "\n",
        "Supervised learning is about fiquering out algorithm based on the given input and expected output\n",
        "\n",
        "We are going to have some. We are going to have two list Celcuis which is the input to the neural netowkr and Fahrenheit which is the label or the ouput on which the neural network is going to be trained on."
      ]
    },
    {
      "cell_type": "code",
      "metadata": {
        "id": "e_Q95pI2KFHC",
        "colab": {
          "base_uri": "https://localhost:8080/"
        },
        "outputId": "8bf14107-ee40-450e-dd2e-cf0e0874646d"
      },
      "source": [
        "celcuis_g = np.array( [-40,-10,0,8,15,22,38],dtype=float)\n",
        "fahrenheit_g = np.array([celcuis*1.8+32 for celcuis in celcuis_g],dtype=float)\n",
        "\n",
        "\n",
        "\n",
        "for i,celcuis in enumerate(celcuis_g):\n",
        "  print(\"{} degree celcuis == {} degree fahrenheit\".format(celcuis,fahrenheit_g[i]))"
      ],
      "execution_count": null,
      "outputs": [
        {
          "output_type": "stream",
          "text": [
            "-40.0 degree celcuis == -40.0 degree fahrenheit\n",
            "-10.0 degree celcuis == 14.0 degree fahrenheit\n",
            "0.0 degree celcuis == 32.0 degree fahrenheit\n",
            "8.0 degree celcuis == 46.4 degree fahrenheit\n",
            "15.0 degree celcuis == 59.0 degree fahrenheit\n",
            "22.0 degree celcuis == 71.6 degree fahrenheit\n",
            "38.0 degree celcuis == 100.4 degree fahrenheit\n"
          ],
          "name": "stdout"
        }
      ]
    },
    {
      "cell_type": "code",
      "metadata": {
        "id": "dAAMEtmytztR",
        "colab": {
          "base_uri": "https://localhost:8080/"
        },
        "outputId": "8826c156-d2b4-4534-a9dd-f4ff3e3672ab"
      },
      "source": [
        "print(celcuis_g)\n",
        "print(fahrenheit_g)"
      ],
      "execution_count": null,
      "outputs": [
        {
          "output_type": "stream",
          "text": [
            "[-40. -10.   0.   8.  15.  22.  38.]\n",
            "[-40.   14.   32.   46.4  59.   71.6 100.4]\n"
          ],
          "name": "stdout"
        }
      ]
    },
    {
      "cell_type": "code",
      "metadata": {
        "id": "Y4RLX6QFNHdQ",
        "colab": {
          "base_uri": "https://localhost:8080/"
        },
        "outputId": "c4725c60-8f12-4079-e0b9-32cb37e7e73b"
      },
      "source": [
        "\n",
        "print(type(fahrenheit_g))\n",
        "print(celcuis_g[[0]].shape)\n",
        "print(celcuis_g[[0]])"
      ],
      "execution_count": null,
      "outputs": [
        {
          "output_type": "stream",
          "text": [
            "<class 'numpy.ndarray'>\n",
            "(1,)\n",
            "[-40.]\n"
          ],
          "name": "stdout"
        }
      ]
    },
    {
      "cell_type": "markdown",
      "metadata": {
        "id": "g0W9ZuHsOzww"
      },
      "source": [
        "#Build a layer \n",
        "\n",
        "To build a layer we need two things \n",
        "\n",
        "1.   input_shape=[1] This specifies that the input to this layer is a single value.This is,Ths shape is one dimensional array with one member.Since this is the first layer that input shae is the input shape of the entire model.The single value is a floating point number, representing degree celcuis\n",
        "2.   units = 1 This specifies the number of neurons in the layer.The number of neurons defines how many internal variables the layer has to try to learn how to solve the problem.Since this is the final layer, it is also the size of the model's ouput - a single float value represnting degress Fahrenheit.\n",
        "\n"
      ]
    },
    {
      "cell_type": "code",
      "metadata": {
        "id": "2Hwk8uijPqvP"
      },
      "source": [
        "input_layer = tf.keras.layers.Dense(units=1,input_shape=celcuis_g[[0]].shape)"
      ],
      "execution_count": null,
      "outputs": []
    },
    {
      "cell_type": "markdown",
      "metadata": {
        "id": "4S_WLMaTRPLq"
      },
      "source": [
        "#Assemble Layers into the model\n",
        "\n",
        "Once the layers are defined , they need to be assembled into a model. The Sequential model definiton takes a list of layers as argument, Specifying the calculation order from the input to the ouput.\n",
        "\n",
        "This model has just a single layer, input_layer"
      ]
    },
    {
      "cell_type": "code",
      "metadata": {
        "id": "l15oNM47RNP8"
      },
      "source": [
        "model = tf.keras.Sequential([input_layer])\n",
        "\n",
        "# another common way of defining model instead of having the layers defined before head and then adding them to layers\n",
        "\n",
        "# model = tf.keras.Sequential([\n",
        "#     tf.keras.layers.Dense(units=1,input_shape=celcuis_g[[0]].shape)\n",
        "# ]\n",
        "# )"
      ],
      "execution_count": null,
      "outputs": []
    },
    {
      "cell_type": "markdown",
      "metadata": {
        "id": "7l2ExC47Se4u"
      },
      "source": [
        "#Compile the model, with loss and optimizer functions\n",
        "\n",
        "Before Training, the model has to be compiled. When compiled from training, the model is give:\n",
        "\n",
        "\n",
        "*   **Loss Function**  - A way of measuing how far off predictions are from the desired outcome.\n",
        "*   ** Optimizer Function ** - A way  of adjusting Internal Values in order to reduce the loss\n",
        "\n"
      ]
    },
    {
      "cell_type": "code",
      "metadata": {
        "id": "rNCJvTs-igOe"
      },
      "source": [
        "model.compile(loss = 'mean_squared_error', optimizer= tf.keras.optimizers.Adam(0.1))"
      ],
      "execution_count": null,
      "outputs": []
    },
    {
      "cell_type": "markdown",
      "metadata": {
        "id": "jS8MqQgtiyAP"
      },
      "source": [
        "#Train the model \n",
        "\n",
        "Train the model by calling the fit method model.fit(input,label,epochs=value)"
      ]
    },
    {
      "cell_type": "code",
      "metadata": {
        "id": "jUhZB2UYixbx",
        "colab": {
          "base_uri": "https://localhost:8080/"
        },
        "outputId": "ed2eb92e-3006-4390-c9f0-a428ffa31e54"
      },
      "source": [
        "history = model.fit(celcuis_g,fahrenheit_g,epochs=1000,verbose=False)\n",
        "print(\"The Training is complete !!\")\n"
      ],
      "execution_count": null,
      "outputs": [
        {
          "output_type": "stream",
          "text": [
            "The Training is complete !!\n"
          ],
          "name": "stdout"
        }
      ]
    },
    {
      "cell_type": "markdown",
      "metadata": {
        "id": "pbZF9QlwkK37"
      },
      "source": [
        "##Make prediction \n",
        "\n",
        "Make prediction by usging the .predict([value]) method"
      ]
    },
    {
      "cell_type": "code",
      "metadata": {
        "id": "G3Wt8BpLkAsP",
        "colab": {
          "base_uri": "https://localhost:8080/"
        },
        "outputId": "089be8a3-ca69-4864-c671-c69e4e979b8c"
      },
      "source": [
        "print(model.predict([1]))"
      ],
      "execution_count": null,
      "outputs": [
        {
          "output_type": "stream",
          "text": [
            "[[33.7412]]\n"
          ],
          "name": "stdout"
        }
      ]
    },
    {
      "cell_type": "markdown",
      "metadata": {
        "id": "1ew3r-B_lJ3I"
      },
      "source": [
        "#Display Training Statistics\n",
        "\n",
        "The fit methods returns a history object.we can use the object to plot how the loss of our model goes through each training epoch"
      ]
    },
    {
      "cell_type": "code",
      "metadata": {
        "id": "twyyx-D2lH-v",
        "colab": {
          "base_uri": "https://localhost:8080/",
          "height": 279
        },
        "outputId": "282433d7-d7f1-4b9e-9ea9-8014f5676b90"
      },
      "source": [
        "import matplotlib.pyplot as plt\n",
        "\n",
        "plt.xlabel('Epoch Number')\n",
        "plt.ylabel('Loss Number')\n",
        "plt.plot(history.history['loss'])\n",
        "plt.show()"
      ],
      "execution_count": null,
      "outputs": [
        {
          "output_type": "display_data",
          "data": {
            "image/png": "[encoded data removed]",
            "text/plain": [
              "<Figure size 432x288 with 1 Axes>"
            ]
          },
          "metadata": {
            "tags": [],
            "needs_background": "light"
          }
        }
      ]
    },
    {
      "cell_type": "markdown",
      "metadata": {
        "id": "ysnfH90ylsqx"
      },
      "source": [
        "#look at the layer weights\n",
        "\n",
        "Lets print the internal weight and bias of the dense layer"
      ]
    },
    {
      "cell_type": "code",
      "metadata": {
        "id": "BlmDY6lxlsVJ",
        "colab": {
          "base_uri": "https://localhost:8080/"
        },
        "outputId": "5c03cef0-1b6b-468c-a756-537422cec942"
      },
      "source": [
        "print(\"The weight and bias of the dense layer-{}\".format(input_layer.get_weights()))"
      ],
      "execution_count": null,
      "outputs": [
        {
          "output_type": "stream",
          "text": [
            "The weight and bias of the dense layer-[array([[1.8005158]], dtype=float32), array([31.940685], dtype=float32)]\n"
          ],
          "name": "stdout"
        }
      ]
    },
    {
      "cell_type": "markdown",
      "metadata": {
        "id": "ah0V1ed7rVyq"
      },
      "source": [
        "### A little experiment\n",
        "\n",
        "Just for fun, what if we created more Dense layers with different units, which therefore also has more variables?"
      ]
    },
    {
      "cell_type": "code",
      "metadata": {
        "id": "vuhGnac0rZ_7",
        "colab": {
          "base_uri": "https://localhost:8080/",
          "height": 255
        },
        "outputId": "a9ba6c5c-2f9e-437b-8054-3f3171c61a7d"
      },
      "source": [
        "l0 = tf.keras.layers.Dense(units=4, input_shape=[1])  \n",
        "l1 = tf.keras.layers.Dense(units=4)  \n",
        "l2 = tf.keras.layers.Dense(units=1)  \n",
        "model = tf.keras.Sequential([l0, l1, l2])\n",
        "model.compile(loss='mean_squared_error', optimizer=tf.keras.optimizers.Adam(0.1))\n",
        "history = model.fit(celcuis_g, fahrenheit_g, epochs=500, verbose=False)\n",
        "print(\"Finished training the model\")\n",
        "print(model.predict([100.0]))\n",
        "print(\"Model predicts that 100 degrees Celsius is: {} degrees Fahrenheit\".format(model.predict([100.0])))\n",
        "print(\"These are the l0 variables: {}\".format(l0.get_weights()))\n",
        "print(\"These are the l1 variables: {}\".format(l1.get_weights()))\n",
        "print(\"These are the l2 variables: {}\".format(l2.get_weights()))"
      ],
      "execution_count": null,
      "outputs": [
        {
          "output_type": "stream",
          "text": [
            "Finished training the model\n",
            "[[212.00002]]\n",
            "Model predicts that 100 degrees Celsius is: [[212.00002]] degrees Fahrenheit\n",
            "These are the l0 variables: [array([[-0.697846  , -0.28363377,  0.21750337, -0.5712092 ]],\n",
            "      dtype=float32), array([-3.802175 ,  2.2574089, -1.6951525, -3.8356903], dtype=float32)]\n",
            "These are the l1 variables: [array([[-0.19191825, -0.21643296, -0.37781113,  1.5231633 ],\n",
            "       [-0.66515845,  1.3125509 ,  1.1728133 , -0.3115758 ],\n",
            "       [ 0.01461512, -0.30279037, -0.19746713,  0.4179262 ],\n",
            "       [-0.46528697, -0.5006745 , -0.16585205,  1.4949415 ]],\n",
            "      dtype=float32), array([ 3.0817096,  3.744058 ,  3.4922113, -3.403477 ], dtype=float32)]\n",
            "These are the l2 variables: [array([[ 0.6965012 ],\n",
            "       [ 0.8222391 ],\n",
            "       [ 0.51259094],\n",
            "       [-0.8044076 ]], dtype=float32), array([3.4470773], dtype=float32)]\n"
          ],
          "name": "stdout"
        }
      ]
    },
    {
      "cell_type": "code",
      "metadata": {
        "id": "ge2mCCylrtvM",
        "colab": {
          "base_uri": "https://localhost:8080/",
          "height": 283
        },
        "outputId": "cb1a9b0d-738b-409a-cfb4-c178fdfc3385"
      },
      "source": [
        "import matplotlib.pyplot as plt\n",
        "\n",
        "plt.xlabel('Epoch Number')\n",
        "plt.ylabel('Loss Number')\n",
        "plt.plot(history.history['loss'])\n",
        "plt.show()"
      ],
      "execution_count": null,
      "outputs": [
        {
          "output_type": "display_data",
          "data": {
            "image/png": "[encoded data removed]",
            "text/plain": [
              "<Figure size 432x288 with 1 Axes>"
            ]
          },
          "metadata": {
            "tags": []
          }
        }
      ]
    }
  ]
}